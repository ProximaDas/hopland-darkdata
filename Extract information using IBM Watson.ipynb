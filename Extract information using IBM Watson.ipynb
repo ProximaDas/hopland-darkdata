{
 "cells": [
  {
   "cell_type": "markdown",
   "metadata": {},
   "source": [
    "The purpose of this notebook is to provide starter code to be able to use IBM Watson's Natural Language Processing tool - Alchemy. This code expects input in text format in a .JSON file. The code will need to be modified to extract information based on the JSON file format.\n",
    "\n",
    "\n",
    "** Library imports **"
   ]
  },
  {
   "cell_type": "code",
   "execution_count": 1,
   "metadata": {
    "collapsed": true
   },
   "outputs": [],
   "source": [
    "import json\n",
    "import nltk\n",
    "import os\n",
    "from watson_developer_cloud import AlchemyLanguageV1\n",
    "from sys import getsizeof"
   ]
  },
  {
   "cell_type": "markdown",
   "metadata": {},
   "source": [
    "** Extract information from JSON file **\n",
    "\n",
    "\n",
    "Alter the following code depending on the format of JSON file. Currently, the cell below reads in a JSON file that contains report data and creates an array of objects, each of which have a title, year and OCR processed text."
   ]
  },
  {
   "cell_type": "code",
   "execution_count": 2,
   "metadata": {
    "collapsed": true
   },
   "outputs": [],
   "source": [
    "annual_reports = []\n",
    "with open(\"hopland.json\") as json_file:\n",
    "    json_data = json.load(json_file,strict=False)\n",
    "for j in json_data['features']:\n",
    "    if j['attributes']['doctypename'] == \"Annual Project Summary\":\n",
    "        annual_report = {\"title\":None,\"year\":None,\"OCR\":None}\n",
    "        annual_report['title'] = j['attributes']['title']\n",
    "        annual_report['year'] = j['attributes']['year']\n",
    "        annual_report['OCR'] = j['attributes']['OCR']\n",
    "    \n",
    "        annual_reports.append(annual_report)"
   ]
  },
  {
   "cell_type": "markdown",
   "metadata": {},
   "source": [
    "Add your API key below by creating an account here: http://www.alchemyapi.com/api/register.html"
   ]
  },
  {
   "cell_type": "code",
   "execution_count": 8,
   "metadata": {
    "collapsed": false
   },
   "outputs": [],
   "source": [
    "alchemy_language = AlchemyLanguageV1(api_key='YOUR_API_KEY')"
   ]
  },
  {
   "cell_type": "markdown",
   "metadata": {},
   "source": [
    "### Concepts\n",
    "\n",
    "The below function takes in an array of objects containing OCR processed text and extracts concepts in the text using AlchemyAPI."
   ]
  },
  {
   "cell_type": "code",
   "execution_count": 32,
   "metadata": {
    "collapsed": true
   },
   "outputs": [],
   "source": [
    "def extract_concepts(reports):\n",
    "    concepts = []\n",
    "    for record in reports:\n",
    "        text = record['OCR']\n",
    "        year = record['year']\n",
    "        print(len(text))\n",
    "        if len(text) == 0:\n",
    "            text = 'Empty OCR'\n",
    "        # Call AlchemyAPI\n",
    "#         text_len = getsizeof(text)\n",
    "#         if text_len > 50000:\n",
    "#             num_chunks = text_len // 50000\n",
    "#             smaller_text_list = [text[0+ch:] for ch in range(num_chunks)]\n",
    "        concept = json.dumps(alchemy_language.concepts(language='english', text=text), indent=2)\n",
    "        c = {'year':None,'concept':None}\n",
    "        c['year'] = year\n",
    "        c['concept'] = concept\n",
    "        \n",
    "        concepts.append(c)\n",
    "    return concepts"
   ]
  },
  {
   "cell_type": "code",
   "execution_count": null,
   "metadata": {
    "collapsed": false
   },
   "outputs": [],
   "source": [
    "annual_report_concepts = extract_concepts(annual_reports)"
   ]
  },
  {
   "cell_type": "markdown",
   "metadata": {},
   "source": [
    "Export data into a new JSON file."
   ]
  },
  {
   "cell_type": "code",
   "execution_count": 34,
   "metadata": {
    "collapsed": false
   },
   "outputs": [],
   "source": [
    "import json\n",
    "with open('FinalOutput_AnnualProjectSummary.json', 'w') as outfile:\n",
    "    json.dump(annual_report_concepts, outfile)"
   ]
  },
  {
   "cell_type": "markdown",
   "metadata": {},
   "source": [
    "### Entities\n",
    "\n",
    "The below function takes in an array of objects containing OCR processed text and extracts entities(people, organizations, places) in the text using AlchemyAPI."
   ]
  },
  {
   "cell_type": "code",
   "execution_count": 13,
   "metadata": {
    "collapsed": true
   },
   "outputs": [],
   "source": [
    "def get_entities(reports):\n",
    "    entities = []\n",
    "    for record in reports:\n",
    "        text = record['OCR']\n",
    "        year = record['year']\n",
    "        if len(text) == 0:\n",
    "            text = 'Empty OCR'\n",
    "        # Call AlchemyAPI\n",
    "        entity = json.dumps(alchemy_language.entities(language='english',text=text))\n",
    "        e = {'year':None,'entities':None}\n",
    "        e['year'] = year\n",
    "        e['entities'] = entity\n",
    "        \n",
    "        entities.append(e)\n",
    "    return entities"
   ]
  },
  {
   "cell_type": "code",
   "execution_count": null,
   "metadata": {
    "collapsed": false
   },
   "outputs": [],
   "source": [
    "# annual_report_entities = get_entities(annual_reports)\n",
    "annual_report_entities = []\n",
    "\n",
    "for i in annual_reports[:100]:\n",
    "    x = json.dumps(alchemy_language.entities(text=i['OCR']))\n",
    "    e = {'year':None,'entities':None}\n",
    "    e['year'] = i['year']\n",
    "    e['entities'] = x\n",
    "    annual_report_entities.append(e)"
   ]
  },
  {
   "cell_type": "code",
   "execution_count": 14,
   "metadata": {
    "collapsed": false,
    "scrolled": true
   },
   "outputs": [],
   "source": [
    "annual_report_entities = get_entities(annual_reports)"
   ]
  },
  {
   "cell_type": "code",
   "execution_count": 15,
   "metadata": {
    "collapsed": true
   },
   "outputs": [],
   "source": [
    "import json\n",
    "with open('FinalOutput_AnnualProjectSummaryEntities.json', 'w') as outfile:\n",
    "    json.dump(annual_report_entities, outfile)"
   ]
  },
  {
   "cell_type": "markdown",
   "metadata": {},
   "source": [
    "### Keywords\n",
    "\n",
    "The below function takes in an array of objects containing OCR processed text and extracts important keywords in the text using AlchemyAPI."
   ]
  },
  {
   "cell_type": "code",
   "execution_count": 4,
   "metadata": {
    "collapsed": true
   },
   "outputs": [],
   "source": [
    "def get_keywords(reports):\n",
    "    keywords = []\n",
    "    for record in reports:\n",
    "        text = record['OCR']\n",
    "        year = record['year']\n",
    "        # Call AlchemyAPI\n",
    "        keyword = json.dumps(alchemy_language.keywords(text=text))\n",
    "        e = {'year':None,'keywords':None}\n",
    "        e['year'] = year\n",
    "        e['entities'] = keyword\n",
    "        \n",
    "        keywords.append(e)\n",
    "    return keywords"
   ]
  },
  {
   "cell_type": "code",
   "execution_count": 5,
   "metadata": {
    "collapsed": true
   },
   "outputs": [],
   "source": [
    "annual_report_keywords = get_keywords(annual_reports)"
   ]
  },
  {
   "cell_type": "code",
   "execution_count": 6,
   "metadata": {
    "collapsed": true
   },
   "outputs": [],
   "source": [
    "import json\n",
    "with open('FinalOutput_AnnualReportKeywords.json', 'w') as outfile:\n",
    "    json.dump(annual_report_keywords, outfile)"
   ]
  }
 ],
 "metadata": {
  "kernelspec": {
   "display_name": "Python 3",
   "language": "python",
   "name": "python3"
  },
  "language_info": {
   "codemirror_mode": {
    "name": "ipython",
    "version": 3
   },
   "file_extension": ".py",
   "mimetype": "text/x-python",
   "name": "python",
   "nbconvert_exporter": "python",
   "pygments_lexer": "ipython3",
   "version": "3.5.1"
  }
 },
 "nbformat": 4,
 "nbformat_minor": 0
}
